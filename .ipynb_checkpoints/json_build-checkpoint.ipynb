{
 "cells": [
  {
   "cell_type": "code",
   "execution_count": 35,
   "metadata": {},
   "outputs": [],
   "source": [
    "import json\n",
    "\n",
    "data = {}\n",
    "data['key'] = ['jahsj']\n",
    "data['key2'] = ['value']\n",
    "if 'key'in data:\n",
    "    data['key'].append('value2')\n",
    "else:\n",
    "    data['key2'] = ['jahsj']\n",
    "    \n",
    "\n",
    "json_data = json.dumps(data, indent=4, ensure_ascii=False)"
   ]
  },
  {
   "cell_type": "code",
   "execution_count": 36,
   "metadata": {},
   "outputs": [
    {
     "name": "stdout",
     "output_type": "stream",
     "text": [
      "{\n",
      "    \"key2\": [\n",
      "        \"value\"\n",
      "    ],\n",
      "    \"key\": [\n",
      "        \"jahsj\",\n",
      "        \"value2\"\n",
      "    ]\n",
      "}\n"
     ]
    }
   ],
   "source": [
    "print(json_data)"
   ]
  },
  {
   "cell_type": "code",
   "execution_count": 27,
   "metadata": {},
   "outputs": [],
   "source": [
    "import json, codecs\n",
    "with open('data.json', 'wb') as f:\n",
    "    json.dump(data, codecs.getwriter('utf-8')(f), ensure_ascii=False, indent=4)"
   ]
  },
  {
   "cell_type": "code",
   "execution_count": null,
   "metadata": {},
   "outputs": [],
   "source": []
  }
 ],
 "metadata": {
  "kernelspec": {
   "display_name": "Python 3",
   "language": "python",
   "name": "python3"
  },
  "language_info": {
   "codemirror_mode": {
    "name": "ipython",
    "version": 3
   },
   "file_extension": ".py",
   "mimetype": "text/x-python",
   "name": "python",
   "nbconvert_exporter": "python",
   "pygments_lexer": "ipython3",
   "version": "3.5.2"
  }
 },
 "nbformat": 4,
 "nbformat_minor": 2
}
